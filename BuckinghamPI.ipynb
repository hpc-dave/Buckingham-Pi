{
 "cells": [
  {
   "cell_type": "markdown",
   "metadata": {},
   "source": [
    "Imports"
   ]
  },
  {
   "cell_type": "code",
   "execution_count": 1,
   "metadata": {},
   "outputs": [],
   "source": [
    "import numpy as NP\n",
    "import ReducedEchelon as RE\n",
    "import Nullspace as NS\n",
    "import PrintDimensionalMatrix as PMat\n",
    "from typing import OrderedDict\n",
    "from scipy.linalg import null_space\n"
   ]
  },
  {
   "cell_type": "markdown",
   "metadata": {},
   "source": [
    "Definition of variables"
   ]
  },
  {
   "cell_type": "code",
   "execution_count": 2,
   "metadata": {},
   "outputs": [],
   "source": [
    "# define variables as a dictionary\n",
    "# all variables are given in units of a dedicated basic unit system (usually SI)\n",
    "# use whatever you feel makes sense, later on the code will determine, which ones you used.\n",
    "# in case of doubt, check the output and see if all intended units are there or somewhere a\n",
    "# type has occured.\n",
    "variables = {}\n",
    "# example Reynolds number of flow around sphere\n",
    "# variables['mu']  = {'kg': 1, 's': -1, 'm': -1}\n",
    "# variables['v']   = {'m': 1, 's': -1}\n",
    "# variables['R']   = {'m': 1}\n",
    "# variables['rho'] = {'kg': 1, 'm': -3}\n",
    "\n",
    "# your variable system\n",
    "variables['L'] = {'m': 1}                                   # representative macro scale length\n",
    "variables['mu_l'] = {'kg': 1, 's': -1, 'm': -1}             # liquid viscosity\n",
    "variables['cp_w'] = {'m': 2, 's': -2, 'K': -1}              # heat capacity of liquid\n",
    "variables['D_eff'] = {'m': 2, 's': -1}                      # effective diffusion coefficient of species\n",
    "variables['rho_l'] = {'kg': 1, 'm': -3}                     # liquid side density\n",
    "variables['alpha'] = {'kg': 1, 's': -3, 'K': -1}            # external heat transfer coefficient\n",
    "variables['beta']  = {'m': 1, 's': -1}                      # external mass transfer coefficient\n",
    "variables['c_0']   = {'mol': 1, 'm': -3}                    # initial concentration\n",
    "variables['c_sat'] = {'mol': 1, 'm': -3}                    # saturation concentration\n",
    "variables['sigma'] = {'kg' : 1, 's' : -2}                   # surface tension\n",
    "variables['a_v']   = {'m': -1}                              # specific surface area\n",
    "variables['d_p']   = {'m': 1}                               # average pore diameter\n",
    "variables['l_s']   = {'kg': 1, 'm': 1, 's': -3, 'K': -1}    # heat conductivity of solid\n",
    "variables['l_w']   = {'kg': 1, 'm': 1, 's': -3, 'K': -1}    # heat conductivity of liquid\n",
    "variables['cp_s']  = {'m': 2, 's': -2, 'K': -1}             # heat capacity of solid\n",
    "variables['T_amb'] = {'K': 1}\n",
    "\n",
    "# number of digits for printing the entries of the dimensional matrix\n",
    "digits = 2"
   ]
  },
  {
   "cell_type": "markdown",
   "metadata": {},
   "source": [
    "Assembling Matrix for Reduction"
   ]
  },
  {
   "cell_type": "code",
   "execution_count": 3,
   "metadata": {},
   "outputs": [
    {
     "name": "stdout",
     "output_type": "stream",
     "text": [
      "Following variables were provided\n",
      "L = {'m': 1}\n",
      "mu_l = {'kg': 1, 's': -1, 'm': -1}\n",
      "cp_w = {'m': 2, 's': -2, 'K': -1}\n",
      "D_eff = {'m': 2, 's': -1}\n",
      "rho_l = {'kg': 1, 'm': -3}\n",
      "alpha = {'kg': 1, 's': -3, 'K': -1}\n",
      "beta = {'m': 1, 's': -1}\n",
      "c_0 = {'mol': 1, 'm': -3}\n",
      "c_sat = {'mol': 1, 'm': -3}\n",
      "sigma = {'kg': 1, 's': -2}\n",
      "a_v = {'m': -1}\n",
      "d_p = {'m': 1}\n",
      "l_s = {'kg': 1, 'm': 1, 's': -3, 'K': -1}\n",
      "l_w = {'kg': 1, 'm': 1, 's': -3, 'K': -1}\n",
      "cp_s = {'m': 2, 's': -2, 'K': -1}\n",
      "\n",
      "5 independent dimensions were found: m, kg, s, K, mol\n",
      "\n"
     ]
    }
   ],
   "source": [
    "# converting to an ordered dictionary, so we can always rely on the order of entries\n",
    "variables = OrderedDict(variables.items())\n",
    "\n",
    "# giving some debugging feedback to the user\n",
    "num_var = len(variables)\n",
    "print('Following variables were provided')\n",
    "for i, v in variables.items():\n",
    "    print(f\"{i} = {v}\")\n",
    "\n",
    "print(\"\")\n",
    "\n",
    "# determining the independet physical dimensions\n",
    "independent_variables = []\n",
    "for i, v in variables.items():\n",
    "    for p, o in v.items():\n",
    "        if not p in independent_variables:\n",
    "            independent_variables.append(p)\n",
    "\n",
    "num_var_independent = len(independent_variables)\n",
    "print(f\"{num_var_independent} independent dimensions were found: \", end = \"\")\n",
    "for v in range(0, num_var_independent - 1):\n",
    "    print(independent_variables[v], end = \", \")\n",
    "print(independent_variables[-1])\n",
    "\n",
    "print(\"\")\n",
    "\n",
    "# assembling the dimension matrix\n",
    "A = NP.zeros((num_var_independent, num_var))\n",
    "col = 0\n",
    "for i, v in variables.items():\n",
    "    for row in range(0, num_var_independent):\n",
    "        A[row, col] = v.get(independent_variables[row], 0)\n",
    "    col += 1\n",
    "\n",
    "Ared, jb = RE.rref(A)\n"
   ]
  },
  {
   "cell_type": "markdown",
   "metadata": {},
   "source": [
    "Result"
   ]
  },
  {
   "cell_type": "code",
   "execution_count": 4,
   "metadata": {},
   "outputs": [
    {
     "name": "stdout",
     "output_type": "stream",
     "text": [
      "Determined dimensional matrix is:\n",
      "\tL\tmu_l\tcp_w\tD_eff\trho_l\talpha\tbeta\tc_0\tc_sat\tsigma\ta_v\td_p\tl_s\tl_w\tcp_s\t\n",
      "m\t1.0\t-1.0\t2.0\t2.0\t-3.0\t0.0\t1.0\t-3.0\t-3.0\t0.0\t-1.0\t1.0\t1.0\t1.0\t2.0\t\n",
      "kg\t0.0\t1.0\t0.0\t0.0\t1.0\t1.0\t0.0\t0.0\t0.0\t1.0\t0.0\t0.0\t1.0\t1.0\t0.0\t\n",
      "s\t0.0\t-1.0\t-2.0\t-1.0\t0.0\t-3.0\t-1.0\t0.0\t0.0\t-2.0\t0.0\t0.0\t-3.0\t-3.0\t-2.0\t\n",
      "K\t0.0\t0.0\t-1.0\t0.0\t0.0\t-1.0\t0.0\t0.0\t0.0\t0.0\t0.0\t0.0\t-1.0\t-1.0\t-1.0\t\n",
      "mol\t0.0\t0.0\t0.0\t0.0\t0.0\t0.0\t0.0\t1.0\t1.0\t0.0\t0.0\t0.0\t0.0\t0.0\t0.0\t\n",
      "\n",
      "\n",
      "The reduced row echelon form was found to be:\n",
      "\tL\tmu_l\tcp_w\tD_eff\trho_l\talpha\tbeta\tc_0\tc_sat\tsigma\ta_v\td_p\tl_s\tl_w\tcp_s\t\n",
      "m\t1.0\t0.0\t0.0\t0.0\t0.0\t-1.0\t-1.0\t0.0\t0.0\t-1.0\t-1.0\t1.0\t0.0\t0.0\t0.0\t\n",
      "kg\t0.0\t1.0\t0.0\t0.0\t1.0\t1.0\t0.0\t0.0\t0.0\t1.0\t0.0\t0.0\t1.0\t1.0\t0.0\t\n",
      "s\t0.0\t0.0\t1.0\t0.0\t0.0\t1.0\t0.0\t0.0\t0.0\t0.0\t0.0\t0.0\t1.0\t1.0\t1.0\t\n",
      "K\t0.0\t0.0\t0.0\t1.0\t-1.0\t0.0\t1.0\t0.0\t0.0\t1.0\t0.0\t0.0\t0.0\t0.0\t0.0\t\n",
      "mol\t0.0\t0.0\t0.0\t0.0\t0.0\t0.0\t0.0\t1.0\t1.0\t0.0\t0.0\t0.0\t0.0\t0.0\t0.0\t\n",
      "\n",
      "\n",
      "The matrix is of rank 5 and provides 10 Pi numbers:\n",
      "Pi 1 = mu_l^(-1.0) D_eff^(1.0) rho_l^(1.0) \n",
      "Pi 2 = L^(1.0) mu_l^(-1.0) cp_w^(-1.0) alpha^(1.0) \n",
      "Pi 3 = L^(1.0) D_eff^(-1.0) beta^(1.0) \n",
      "Pi 4 = c_0^(-1.0) c_sat^(1.0) \n",
      "Pi 5 = L^(1.0) mu_l^(-1.0) D_eff^(-1.0) sigma^(1.0) \n",
      "Pi 6 = L^(1.0) a_v^(1.0) \n",
      "Pi 7 = L^(-1.0) d_p^(1.0) \n",
      "Pi 8 = mu_l^(-1.0) cp_w^(-1.0) l_s^(1.0) \n",
      "Pi 9 = mu_l^(-1.0) cp_w^(-1.0) l_w^(1.0) \n",
      "Pi 10 = cp_w^(-1.0) cp_s^(1.0) \n",
      "\n",
      "\n",
      "Be aware, the numbers provided by this code are merely one possibility! Especially in the case of multiple numbers, an infinite possibility of pi numbers can be forumulated!\n"
     ]
    }
   ],
   "source": [
    "print('Determined dimensional matrix is:')\n",
    "PMat.Print(A, variables, independent_variables, digits)\n",
    "print(\"\")\n",
    "print('The reduced row echelon form was found to be:')\n",
    "PMat.Print(Ared, variables, independent_variables, digits)\n",
    "print(\"\")\n",
    "num_pis = num_var - len(jb)\n",
    "if num_pis == 1:\n",
    "    print(f\"The matrix is of rank {len(jb)} and provides 1 Pi number:\")\n",
    "else:\n",
    "    print(f\"The matrix is of rank {len(jb)} and provides {num_pis} Pi numbers:\")\n",
    "\n",
    "# The nullspace of the matrix then provides us with the dimensionless variables\n",
    "# Be aware, this is a mere guess, the result is just one of infinite possibilities\n",
    "pi_array = NS.nullspace(Ared, list(variables.items()))\n",
    "\n",
    "if num_pis == 0:\n",
    "    print('No dimensionless number can be defined for the provided system')\n",
    "else:\n",
    "    Pi = {}\n",
    "    var_list = list(variables.keys())\n",
    "    for i in range(0, num_pis):\n",
    "        pi_local = {}\n",
    "        normalizer = NP.max(pi_array)\n",
    "        for j in range(0, len(var_list)):\n",
    "            if not abs(pi_array[j, i]) < 1e-3:\n",
    "                normalizer = min(abs(pi_array[j,i]), normalizer)\n",
    "        for j in range(0, len(var_list)):\n",
    "            if not abs(pi_array[j, i]) < 1e-3:\n",
    "                pi_local[var_list[j]] = pi_array[j,i] / normalizer\n",
    "        Pi[\"Pi %u\"%(i+1)] = pi_local\n",
    "    \n",
    "    for i_p, p_p in Pi.items():\n",
    "        print(f\"{i_p} = \", end=\"\")\n",
    "        for i_pp, p_pp in p_p.items():\n",
    "            print(f\"{i_pp}^({round(p_pp, digits)})\", end = \" \")\n",
    "        print(\"\")\n",
    "\n",
    "print(\"\\n\\nBe aware, the numbers provided by this code are merely one possibility! Especially in the case of multiple numbers, an infinite possibility of pi numbers can be forumulated!\")\n"
   ]
  },
  {
   "cell_type": "markdown",
   "metadata": {},
   "source": [
    "Test Pi numbers for nullity criteria"
   ]
  },
  {
   "cell_type": "code",
   "execution_count": 5,
   "metadata": {},
   "outputs": [],
   "source": [
    "# Enter Pi-numbers\n",
    "Pi = []\n",
    "Pi.append({'c_0' : 1, 'c_sat' : -1 })\n",
    "Pi.append({'a_v' : 1, 'T_amb' : -1, 'mu_l' : 1, 'beta' : 2, 'alpha' : -1})\n",
    "Pi.append({'d_p': -1, 'T_amb': -1, 'mu_l': 1, 'beta': 2, 'alpha': -1})\n",
    "Pi.append({'L': 1, 'T_amb': 1, 'mu_l': -1, 'beta': -2, 'alpha': 1})\n",
    "Pi.append({'rho_l': 1, 'T_amb': -1, 'beta': 3, 'alpha': -1})\n",
    "Pi.append({'l_s': 1, 'T_amb': 1, 'mu_l': -1, 'beta': -2})\n",
    "Pi.append({'l_w': 1, 'T_amb': 1, 'mu_l': -1, 'beta': -2})\n",
    "Pi.append({'cp_s': 1, 'T_amb': 1, 'beta': -2})\n",
    "Pi.append({'cp_w': 1, 'T_amb': 1, 'beta': -2})\n",
    "Pi.append({'D_eff' : 1, 'T_amb' : 1, 'mu_l' : -1, 'alpha' : 1, 'beta' : -3})\n"
   ]
  },
  {
   "cell_type": "code",
   "execution_count": 6,
   "metadata": {},
   "outputs": [
    {
     "name": "stdout",
     "output_type": "stream",
     "text": [
      "Cannot find T_amb in the predefined variables\n",
      "Cannot find T_amb in the predefined variables\n",
      "Cannot find T_amb in the predefined variables\n",
      "Cannot find T_amb in the predefined variables\n",
      "Cannot find T_amb in the predefined variables\n",
      "Cannot find T_amb in the predefined variables\n",
      "Cannot find T_amb in the predefined variables\n",
      "Cannot find T_amb in the predefined variables\n",
      "Cannot find T_amb in the predefined variables\n"
     ]
    },
    {
     "ename": "ValueError",
     "evalue": "'T_amb' is not in list",
     "output_type": "error",
     "traceback": [
      "\u001b[1;31m---------------------------------------------------------------------------\u001b[0m",
      "\u001b[1;31mValueError\u001b[0m                                Traceback (most recent call last)",
      "Cell \u001b[1;32mIn [6], line 18\u001b[0m\n\u001b[0;32m     16\u001b[0m \u001b[39mfor\u001b[39;00m i \u001b[39min\u001b[39;00m \u001b[39mrange\u001b[39m(\u001b[39mlen\u001b[39m(Pi)):\n\u001b[0;32m     17\u001b[0m     \u001b[39mfor\u001b[39;00m key, v \u001b[39min\u001b[39;00m Pi[i]\u001b[39m.\u001b[39mitems():\n\u001b[1;32m---> 18\u001b[0m         nullspace[var_list\u001b[39m.\u001b[39mindex(key), i] \u001b[39m=\u001b[39m v\n\u001b[0;32m     20\u001b[0m \u001b[39m# test nullspace\u001b[39;00m\n\u001b[0;32m     21\u001b[0m test_space \u001b[39m=\u001b[39m A\u001b[39m.\u001b[39mdot(nullspace)\n",
      "\u001b[1;31mValueError\u001b[0m: 'T_amb' is not in list"
     ]
    }
   ],
   "source": [
    "# Evaluation numbers\n",
    "\n",
    "# test if number is sufficient\n",
    "if not len(Pi) == num_pis:\n",
    "    print(f\"Inconsistent amount of Pi-numbers provided, expected {num_pis}, found {len(Pi)}\")\n",
    "\n",
    "# test if all components are known\n",
    "var_list = list(variables.keys())\n",
    "for e in Pi:\n",
    "    for i, p in e.items():\n",
    "        if not i in var_list:\n",
    "            print(f\"Cannot find {i} in the predefined variables\")\n",
    "\n",
    "# assemble null-space\n",
    "nullspace = NP.zeros((num_var, num_pis))\n",
    "for i in range(len(Pi)):\n",
    "    for key, v in Pi[i].items():\n",
    "        nullspace[var_list.index(key), i] = v\n",
    "\n",
    "# test nullspace\n",
    "test_space = A.dot(nullspace)\n",
    "if NP.any(abs(test_space) > 1e-10):\n",
    "    print(f\"Set of Pi numbers does not form a nullspace, see result for reference:\")\n",
    "    print(test_space)\n",
    "else:\n",
    "    print(\"All Pi numbers form a null-space\\n\")\n",
    "\n"
   ]
  }
 ],
 "metadata": {
  "kernelspec": {
   "display_name": "Python 3.10.7 ('.venvvscode')",
   "language": "python",
   "name": "python3"
  },
  "language_info": {
   "codemirror_mode": {
    "name": "ipython",
    "version": 3
   },
   "file_extension": ".py",
   "mimetype": "text/x-python",
   "name": "python",
   "nbconvert_exporter": "python",
   "pygments_lexer": "ipython3",
   "version": "3.10.7"
  },
  "orig_nbformat": 4,
  "vscode": {
   "interpreter": {
    "hash": "18cd67c34f409348dd6c2746c17c854d1df9f433f875bb4b209195055040e9b0"
   }
  }
 },
 "nbformat": 4,
 "nbformat_minor": 2
}
